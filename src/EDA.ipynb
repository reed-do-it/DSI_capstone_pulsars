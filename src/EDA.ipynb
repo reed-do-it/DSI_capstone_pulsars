{
 "cells": [
  {
   "cell_type": "markdown",
   "metadata": {},
   "source": [
    "### Info\n",
    "Data Source: http://archive.ics.uci.edu/ml/datasets/HTRU2#"
   ]
  },
  {
   "cell_type": "code",
   "execution_count": null,
   "metadata": {},
   "outputs": [],
   "source": [
    "import pandas as pd\n",
    "import seaborn as sns\n",
    "import numpy as np\n",
    "\n",
    "import matplotlib.pyplot as plt\n",
    "\n",
    "%matplotlib inline"
   ]
  },
  {
   "cell_type": "code",
   "execution_count": null,
   "metadata": {},
   "outputs": [],
   "source": [
    "df = pd.read_csv('../data/HTRU_2.csv')"
   ]
  },
  {
   "cell_type": "code",
   "execution_count": null,
   "metadata": {},
   "outputs": [],
   "source": [
    "def get_variable_category(series):\n",
    "    '''Acquire category of variables: numerical, date, text or categorical. Credit: Sian Lewis'''\n",
    "    unique_count = series.nunique(dropna=False)\n",
    "    total_count = len(series)\n",
    "    if pd.api.types.is_numeric_dtype(series):\n",
    "        return 'Numerical'\n",
    "    elif pd.api.types.is_datetime64_dtype(series):\n",
    "        return 'Date'\n",
    "    elif unique_count == total_count:\n",
    "        return 'Text (Unique)'\n",
    "    else:\n",
    "        return 'Categorical'\n",
    "\n",
    "\n",
    "def print_variable_categories(dataframe):\n",
    "    '''Print categories for each variable. Credit: Sian Lewis'''\n",
    "    for column_name in dataframe.columns:\n",
    "        print(column_name, ': ', get_variable_category(dataframe[column_name]))\n",
    "\n",
    "def missing_values_table(df):\n",
    "    '''Print missing values of dataframe in table for each variable, Credit: Sian Lewis'''\n",
    "    mis_val = df.isnull().sum()\n",
    "    mis_val_percent = 100 * df.isnull().sum() / len(df)\n",
    "    mis_val_table = pd.concat([mis_val, mis_val_percent], axis=1)\n",
    "    mis_val_table_ren_columns = mis_val_table.rename(\n",
    "    columns = {0 : 'Missing Values', 1 : '% of Total Values'})\n",
    "    mis_val_table_ren_columns = mis_val_table_ren_columns[\n",
    "    mis_val_table_ren_columns.iloc[:,1] != 0].sort_values(\n",
    "    '% of Total Values', ascending=False).round(1)\n",
    "    print (\"Your selected dataframe has \" + str(df.shape[1]) + \" columns.\\n\"      \n",
    "    \"There are \" + str(mis_val_table_ren_columns.shape[0]) +\n",
    "    \" columns that have missing values.\")\n",
    "    return mis_val_table_ren_columns        \n",
    "\n",
    "def datainspect(dataframe):\n",
    "    '''Print data exploration information. Credit: Ritika Basher, Matt Speck, Sian Lewis'''\n",
    "    print('ROWS AND COLUMNS: \\n', dataframe.shape, '\\n')\n",
    "    print('MISSING VALUES: \\n{}\\n'.format(dataframe.isnull().sum()))\n",
    "    print('DUPLICATE ROWS \\n', dataframe.duplicated().sum(), '\\n')\n",
    "    print('DATA TYPES: \\n' + str(dataframe.dtypes) + \"\\n\")\n",
    "    print('DATAFRAME DESCRIBE: \\n \\n', dataframe.describe(include='all'), '\\n')\n",
    "    print('UNIQUE VALUES:')\n",
    "    for item in dataframe:\n",
    "        print(item, dataframe[item].nunique())\n",
    "    print('\\n')\n",
    "    print('VARIABLE CATEGORIES:', '\\n')\n",
    "    print(print_variable_categories(dataframe))\n",
    "    print('MISSING MATRIX:', '\\n')\n",
    "    print(missing_values_table(dataframe))\n",
    "#     print(dataframe.head())\n",
    "\n",
    "def print_full_summary(dataframe):\n",
    "    print_variable_categories(dataframe)\n",
    "    print('-------------------------------------')\n",
    "    missing_values_table(dataframe)\n",
    "    print('-------------------------------------')\n",
    "    datainspect(dataframe)"
   ]
  },
  {
   "cell_type": "code",
   "execution_count": null,
   "metadata": {},
   "outputs": [],
   "source": [
    "print_full_summary(df)"
   ]
  },
  {
   "cell_type": "code",
   "execution_count": null,
   "metadata": {},
   "outputs": [],
   "source": [
    "df.describe()"
   ]
  },
  {
   "cell_type": "code",
   "execution_count": null,
   "metadata": {},
   "outputs": [],
   "source": [
    "int_only = df[['integrated_mean', 'integrated_std', 'integrated_kurtosis', 'integrated_skew', 'is_pulsar']]"
   ]
  },
  {
   "cell_type": "code",
   "execution_count": null,
   "metadata": {},
   "outputs": [],
   "source": [
    "int_only.head()"
   ]
  },
  {
   "cell_type": "code",
   "execution_count": null,
   "metadata": {},
   "outputs": [],
   "source": [
    "# sns.PairGrid(int_only)\n",
    "sns.pairplot(data=int_only, hue='is_pulsar')#, plot_kws=dict(scatter_kws = {'alpha': 0.1}))"
   ]
  },
  {
   "cell_type": "code",
   "execution_count": null,
   "metadata": {},
   "outputs": [],
   "source": [
    "# my_dict = dict(scatter_kws = {'alpha': 0.1})\n",
    "\n",
    "# my_dict['scatter_kws']['alpha']"
   ]
  },
  {
   "cell_type": "code",
   "execution_count": null,
   "metadata": {},
   "outputs": [],
   "source": [
    "dmsnr_only = df[['dmsnr_mean', 'dmsnr_std', 'dmsnr_kurtosis', 'dmsnr_skew', 'is_pulsar']]"
   ]
  },
  {
   "cell_type": "code",
   "execution_count": null,
   "metadata": {},
   "outputs": [],
   "source": [
    "sns.pairplot(data=dmsnr_only, hue='is_pulsar')#, plot_kws=dict(scatter_kws = {'alpha': 0.1}))"
   ]
  },
  {
   "cell_type": "code",
   "execution_count": null,
   "metadata": {},
   "outputs": [],
   "source": [
    "plt.scatter(df['integrated_mean'], df['dmsnr_mean'], c=df['is_pulsar'])"
   ]
  },
  {
   "cell_type": "code",
   "execution_count": null,
   "metadata": {},
   "outputs": [],
   "source": [
    "plt.scatter(df['integrated_skew'], df['dmsnr_skew'], c=df['is_pulsar'])"
   ]
  },
  {
   "cell_type": "code",
   "execution_count": null,
   "metadata": {
    "scrolled": false
   },
   "outputs": [],
   "source": [
    "plt.figure(figsize=(10,8))\n",
    "plt.hist([df['integrated_skew'], df['dmsnr_skew']], bins=30, stacked=True);"
   ]
  },
  {
   "cell_type": "code",
   "execution_count": null,
   "metadata": {},
   "outputs": [],
   "source": [
    "plt.figure(figsize=(10,8))\n",
    "plt.scatter(df['integrated_kurtosis'], df['dmsnr_kurtosis'], c=df['is_pulsar'], alpha=.1);"
   ]
  },
  {
   "cell_type": "code",
   "execution_count": null,
   "metadata": {},
   "outputs": [],
   "source": [
    "plt.figure(figsize=(10,8))\n",
    "plt.hist([df['integrated_kurtosis'], df['dmsnr_kurtosis']], bins=30, stacked=True);"
   ]
  },
  {
   "cell_type": "code",
   "execution_count": null,
   "metadata": {},
   "outputs": [],
   "source": []
  }
 ],
 "metadata": {
  "kernelspec": {
   "display_name": "Python 3",
   "language": "python",
   "name": "python3"
  },
  "language_info": {
   "codemirror_mode": {
    "name": "ipython",
    "version": 3
   },
   "file_extension": ".py",
   "mimetype": "text/x-python",
   "name": "python",
   "nbconvert_exporter": "python",
   "pygments_lexer": "ipython3",
   "version": "3.6.5"
  }
 },
 "nbformat": 4,
 "nbformat_minor": 2
}
